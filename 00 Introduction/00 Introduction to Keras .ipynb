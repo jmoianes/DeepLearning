{
 "cells": [
  {
   "cell_type": "markdown",
   "metadata": {},
   "source": [
    "# Deep Learning with Python"
   ]
  },
  {
   "cell_type": "markdown",
   "metadata": {},
   "source": [
    "## Overview"
   ]
  },
  {
   "cell_type": "markdown",
   "metadata": {},
   "source": [
    "- [Python Libraries](#Python-Libraries)  \n",
    "    - [Introduction to Theano](#Introduction-to-Theano)\n",
    "    - [Introduction to TensorFlow](#Introduction-to-TensorFlow)\n",
    "- [Keras](#Keras)\n",
    "- [ARTIFICIAL NEURAL NETWORK using Keras](#ARTIFICIAL-NEURAL-NETWORK-using-Keras)\n",
    "- [Evaluating the ANN model with k-Fold Cross Validation](#Evaluating-the-ANN-model-with-k-Fold-Cross-Validation)\n",
    "- [Tuning the ANN model with GridSearchCV](#Tuning-the-ANN-model-with-GridSearchCV)"
   ]
  },
  {
   "cell_type": "markdown",
   "metadata": {},
   "source": [
    "## Python Libraries "
   ]
  },
  {
   "cell_type": "markdown",
   "metadata": {},
   "source": [
    "There are several python libraries to build deep-learning models. The main two libraries to build deep artificial neural networks are: Theano and TensoFlow"
   ]
  },
  {
   "cell_type": "markdown",
   "metadata": {},
   "source": [
    "### Introduction to Theano"
   ]
  },
  {
   "cell_type": "markdown",
   "metadata": {},
   "source": [
    "[Theano](http://deeplearning.net/software/theano/) is a Python library for **fast numerical computation** to aid in the development of deep learning models. At it’s heart Theano is a compiler for mathematical expressions in Python. It knows how to take your structures and turn them into very efficient code that uses NumPy and efficient native libraries to run as fast as possible on CPUs or GPUs.  \n",
    "\n",
    "The actual syntax of Theano expressions is symbolic, which can be off-putting to beginners used to normal software development. Specifically, expression are defined in the abstract sense, compiled and later actually used to make calculations."
   ]
  },
  {
   "cell_type": "markdown",
   "metadata": {},
   "source": [
    "### Introduction to TensorFlow"
   ]
  },
  {
   "cell_type": "markdown",
   "metadata": {},
   "source": [
    "[TensorFlow](https://www.tensorflow.org/) is a Python library for **fast numerical computing** created and released by Google. Like Theano, TensorFlow is intended to be used to develop deep learning models. With the backing of Google, perhaps used in some of it’s production systems and used by the Google DeepMind research group, it is a platform that we cannot ignore. Unlike Theano, TensorFlow does have more of a production focus with a capability to run on CPUs, GPUs and even very large clusters."
   ]
  },
  {
   "cell_type": "markdown",
   "metadata": {},
   "source": [
    "## Keras"
   ]
  },
  {
   "cell_type": "markdown",
   "metadata": {},
   "source": [
    "A difficulty of both Theano and TensorFlow is that it can take a lot of code to create even very simple neural network models. These libraries were designed primarily as a platform for research and development more than for the practical concerns of applied deep learning. The [Keras](https://keras.io/) library addresses these concerns by providing a wrapper for both Theano and TensorFlow. It provides a clean and simple API that allows you to define and evaluate deep learning models in just a few lines of code.  \n",
    "\n",
    "Because of the ease of use and because it leverages the power of Theano and TensorFlow, Keras is quickly becoming the go-to library for applied deep learning. The focus of Keras is the concept of a model. The life-cycle of a model can be summarized as follows:\n",
    "1. Define your model. Create a **Sequential model** and **add configured layers**.\n",
    "2. Compile your model. Specify **loss function** and **optimizers** and call the compile() function on the model.\n",
    "3. Fit your model. Train the model on a sample of data by calling the **fit()** function on the model.\n",
    "4. Make predictions. Use the model to generate predictions on new data by calling functions such as **evaluate()** or **predict()** on the model."
   ]
  },
  {
   "cell_type": "markdown",
   "metadata": {},
   "source": [
    "## ARTIFICIAL NEURAL NETWORK using Keras"
   ]
  },
  {
   "cell_type": "code",
   "execution_count": 1,
   "metadata": {
    "collapsed": true
   },
   "outputs": [],
   "source": [
    "# load libraries and set plot parameters\n",
    "import numpy as np\n",
    "import pandas as pd\n",
    "# import PrettyTable as pt\n",
    "\n",
    "import matplotlib.pyplot as plt\n",
    "%matplotlib inline\n",
    "\n",
    "# plots configuration\n",
    "# plt.style.use('ggplot')\n",
    "plt.rcParams['figure.figsize'] = 10, 6\n",
    "plt.rcParams['axes.labelsize'] = 11\n",
    "plt.rcParams['axes.titlesize'] = 11\n",
    "plt.rcParams['legend.fontsize'] = 10"
   ]
  },
  {
   "cell_type": "code",
   "execution_count": 2,
   "metadata": {},
   "outputs": [
    {
     "name": "stderr",
     "output_type": "stream",
     "text": [
      "Using Theano backend.\n"
     ]
    }
   ],
   "source": [
    "# load keras classes\n",
    "from keras.models import Sequential\n",
    "from keras.layers import Dense"
   ]
  },
  {
   "cell_type": "code",
   "execution_count": 3,
   "metadata": {},
   "outputs": [
    {
     "name": "stdout",
     "output_type": "stream",
     "text": [
      "Iris Plants Database\n",
      "====================\n",
      "\n",
      "Notes\n",
      "-----\n",
      "Data Set Characteristics:\n",
      "    :Number of Instances: 150 (50 in each of three classes)\n",
      "    :Number of Attributes: 4 numeric, predictive attributes and the class\n",
      "    :Attribute Information:\n",
      "        - sepal length in cm\n",
      "        - sepal width in cm\n",
      "        - petal length in cm\n",
      "        - petal width in cm\n",
      "        - class:\n",
      "                - Iris-Setosa\n",
      "                - Iris-Versicolour\n",
      "                - Iris-Virginica\n",
      "    :Summary Statistics:\n",
      "\n",
      "    ============== ==== ==== ======= ===== ====================\n",
      "                    Min  Max   Mean    SD   Class Correlation\n",
      "    ============== ==== ==== ======= ===== ====================\n",
      "    sepal length:   4.3  7.9   5.84   0.83    0.7826\n",
      "    sepal width:    2.0  4.4   3.05   0.43   -0.4194\n",
      "    petal length:   1.0  6.9   3.76   1.76    0.9490  (high!)\n",
      "    petal width:    0.1  2.5   1.20  0.76     0.9565  (high!)\n",
      "    ============== ==== ==== ======= ===== ====================\n",
      "\n",
      "    :Missing Attribute Values: None\n",
      "    :Class Distribution: 33.3% for each of 3 classes.\n",
      "    :Creator: R.A. Fisher\n",
      "    :Donor: Michael Marshall (MARSHALL%PLU@io.arc.nasa.gov)\n",
      "    :Date: July, 1988\n",
      "\n",
      "This is a copy of UCI ML iris datasets.\n",
      "http://archive.ics.uci.edu/ml/datasets/Iris\n",
      "\n",
      "The famous Iris database, first used by Sir R.A Fisher\n",
      "\n",
      "This is perhaps the best known database to be found in the\n",
      "pattern recognition literature.  Fisher's paper is a classic in the field and\n",
      "is referenced frequently to this day.  (See Duda & Hart, for example.)  The\n",
      "data set contains 3 classes of 50 instances each, where each class refers to a\n",
      "type of iris plant.  One class is linearly separable from the other 2; the\n",
      "latter are NOT linearly separable from each other.\n",
      "\n",
      "References\n",
      "----------\n",
      "   - Fisher,R.A. \"The use of multiple measurements in taxonomic problems\"\n",
      "     Annual Eugenics, 7, Part II, 179-188 (1936); also in \"Contributions to\n",
      "     Mathematical Statistics\" (John Wiley, NY, 1950).\n",
      "   - Duda,R.O., & Hart,P.E. (1973) Pattern Classification and Scene Analysis.\n",
      "     (Q327.D83) John Wiley & Sons.  ISBN 0-471-22361-1.  See page 218.\n",
      "   - Dasarathy, B.V. (1980) \"Nosing Around the Neighborhood: A New System\n",
      "     Structure and Classification Rule for Recognition in Partially Exposed\n",
      "     Environments\".  IEEE Transactions on Pattern Analysis and Machine\n",
      "     Intelligence, Vol. PAMI-2, No. 1, 67-71.\n",
      "   - Gates, G.W. (1972) \"The Reduced Nearest Neighbor Rule\".  IEEE Transactions\n",
      "     on Information Theory, May 1972, 431-433.\n",
      "   - See also: 1988 MLC Proceedings, 54-64.  Cheeseman et al\"s AUTOCLASS II\n",
      "     conceptual clustering system finds 3 classes in the data.\n",
      "   - Many, many more ...\n",
      "\n"
     ]
    }
   ],
   "source": [
    "# loading the dataset\n",
    "from sklearn.datasets import load_iris\n",
    "\n",
    "dataset = load_iris()\n",
    "print(dataset['DESCR'])"
   ]
  },
  {
   "cell_type": "code",
   "execution_count": 4,
   "metadata": {},
   "outputs": [
    {
     "data": {
      "text/html": [
       "<div>\n",
       "<table border=\"1\" class=\"dataframe\">\n",
       "  <thead>\n",
       "    <tr style=\"text-align: right;\">\n",
       "      <th></th>\n",
       "      <th>sepal length (cm)</th>\n",
       "      <th>sepal width (cm)</th>\n",
       "      <th>petal length (cm)</th>\n",
       "      <th>petal width (cm)</th>\n",
       "      <th>class</th>\n",
       "    </tr>\n",
       "  </thead>\n",
       "  <tbody>\n",
       "    <tr>\n",
       "      <th>0</th>\n",
       "      <td>5.1</td>\n",
       "      <td>3.5</td>\n",
       "      <td>1.4</td>\n",
       "      <td>0.2</td>\n",
       "      <td>0</td>\n",
       "    </tr>\n",
       "    <tr>\n",
       "      <th>1</th>\n",
       "      <td>4.9</td>\n",
       "      <td>3.0</td>\n",
       "      <td>1.4</td>\n",
       "      <td>0.2</td>\n",
       "      <td>0</td>\n",
       "    </tr>\n",
       "    <tr>\n",
       "      <th>2</th>\n",
       "      <td>4.7</td>\n",
       "      <td>3.2</td>\n",
       "      <td>1.3</td>\n",
       "      <td>0.2</td>\n",
       "      <td>0</td>\n",
       "    </tr>\n",
       "    <tr>\n",
       "      <th>3</th>\n",
       "      <td>4.6</td>\n",
       "      <td>3.1</td>\n",
       "      <td>1.5</td>\n",
       "      <td>0.2</td>\n",
       "      <td>0</td>\n",
       "    </tr>\n",
       "    <tr>\n",
       "      <th>4</th>\n",
       "      <td>5.0</td>\n",
       "      <td>3.6</td>\n",
       "      <td>1.4</td>\n",
       "      <td>0.2</td>\n",
       "      <td>0</td>\n",
       "    </tr>\n",
       "  </tbody>\n",
       "</table>\n",
       "</div>"
      ],
      "text/plain": [
       "   sepal length (cm)  sepal width (cm)  petal length (cm)  petal width (cm)  \\\n",
       "0                5.1               3.5                1.4               0.2   \n",
       "1                4.9               3.0                1.4               0.2   \n",
       "2                4.7               3.2                1.3               0.2   \n",
       "3                4.6               3.1                1.5               0.2   \n",
       "4                5.0               3.6                1.4               0.2   \n",
       "\n",
       "   class  \n",
       "0      0  \n",
       "1      0  \n",
       "2      0  \n",
       "3      0  \n",
       "4      0  "
      ]
     },
     "execution_count": 4,
     "metadata": {},
     "output_type": "execute_result"
    }
   ],
   "source": [
    "df = pd.DataFrame(dataset.data, columns=dataset.feature_names)\n",
    "df['class'] = pd.Series(dataset.target, name='class')\n",
    "df.head()"
   ]
  },
  {
   "cell_type": "code",
   "execution_count": 5,
   "metadata": {},
   "outputs": [
    {
     "data": {
      "text/html": [
       "<div>\n",
       "<table border=\"1\" class=\"dataframe\">\n",
       "  <thead>\n",
       "    <tr style=\"text-align: right;\">\n",
       "      <th></th>\n",
       "      <th>sepal length (cm)</th>\n",
       "      <th>sepal width (cm)</th>\n",
       "      <th>petal length (cm)</th>\n",
       "      <th>petal width (cm)</th>\n",
       "      <th>class</th>\n",
       "    </tr>\n",
       "  </thead>\n",
       "  <tbody>\n",
       "    <tr>\n",
       "      <th>count</th>\n",
       "      <td>150.000000</td>\n",
       "      <td>150.000000</td>\n",
       "      <td>150.000000</td>\n",
       "      <td>150.000000</td>\n",
       "      <td>150.000000</td>\n",
       "    </tr>\n",
       "    <tr>\n",
       "      <th>mean</th>\n",
       "      <td>5.843333</td>\n",
       "      <td>3.054000</td>\n",
       "      <td>3.758667</td>\n",
       "      <td>1.198667</td>\n",
       "      <td>1.000000</td>\n",
       "    </tr>\n",
       "    <tr>\n",
       "      <th>std</th>\n",
       "      <td>0.828066</td>\n",
       "      <td>0.433594</td>\n",
       "      <td>1.764420</td>\n",
       "      <td>0.763161</td>\n",
       "      <td>0.819232</td>\n",
       "    </tr>\n",
       "    <tr>\n",
       "      <th>min</th>\n",
       "      <td>4.300000</td>\n",
       "      <td>2.000000</td>\n",
       "      <td>1.000000</td>\n",
       "      <td>0.100000</td>\n",
       "      <td>0.000000</td>\n",
       "    </tr>\n",
       "    <tr>\n",
       "      <th>25%</th>\n",
       "      <td>5.100000</td>\n",
       "      <td>2.800000</td>\n",
       "      <td>1.600000</td>\n",
       "      <td>0.300000</td>\n",
       "      <td>0.000000</td>\n",
       "    </tr>\n",
       "    <tr>\n",
       "      <th>50%</th>\n",
       "      <td>5.800000</td>\n",
       "      <td>3.000000</td>\n",
       "      <td>4.350000</td>\n",
       "      <td>1.300000</td>\n",
       "      <td>1.000000</td>\n",
       "    </tr>\n",
       "    <tr>\n",
       "      <th>75%</th>\n",
       "      <td>6.400000</td>\n",
       "      <td>3.300000</td>\n",
       "      <td>5.100000</td>\n",
       "      <td>1.800000</td>\n",
       "      <td>2.000000</td>\n",
       "    </tr>\n",
       "    <tr>\n",
       "      <th>max</th>\n",
       "      <td>7.900000</td>\n",
       "      <td>4.400000</td>\n",
       "      <td>6.900000</td>\n",
       "      <td>2.500000</td>\n",
       "      <td>2.000000</td>\n",
       "    </tr>\n",
       "  </tbody>\n",
       "</table>\n",
       "</div>"
      ],
      "text/plain": [
       "       sepal length (cm)  sepal width (cm)  petal length (cm)  \\\n",
       "count         150.000000        150.000000         150.000000   \n",
       "mean            5.843333          3.054000           3.758667   \n",
       "std             0.828066          0.433594           1.764420   \n",
       "min             4.300000          2.000000           1.000000   \n",
       "25%             5.100000          2.800000           1.600000   \n",
       "50%             5.800000          3.000000           4.350000   \n",
       "75%             6.400000          3.300000           5.100000   \n",
       "max             7.900000          4.400000           6.900000   \n",
       "\n",
       "       petal width (cm)       class  \n",
       "count        150.000000  150.000000  \n",
       "mean           1.198667    1.000000  \n",
       "std            0.763161    0.819232  \n",
       "min            0.100000    0.000000  \n",
       "25%            0.300000    0.000000  \n",
       "50%            1.300000    1.000000  \n",
       "75%            1.800000    2.000000  \n",
       "max            2.500000    2.000000  "
      ]
     },
     "execution_count": 5,
     "metadata": {},
     "output_type": "execute_result"
    }
   ],
   "source": [
    "df.describe()"
   ]
  },
  {
   "cell_type": "code",
   "execution_count": 6,
   "metadata": {
    "collapsed": true
   },
   "outputs": [],
   "source": [
    "X = df.drop('class', axis=1).values\n",
    "y = df['class'].values"
   ]
  },
  {
   "cell_type": "markdown",
   "metadata": {},
   "source": [
    "Since the output variable contains three different values we are dealing with a **multi-class classification problem**."
   ]
  },
  {
   "cell_type": "code",
   "execution_count": 7,
   "metadata": {},
   "outputs": [
    {
     "data": {
      "text/plain": [
       "array([0, 1, 2])"
      ]
     },
     "execution_count": 7,
     "metadata": {},
     "output_type": "execute_result"
    }
   ],
   "source": [
    "df['class'].unique()"
   ]
  },
  {
   "cell_type": "code",
   "execution_count": 8,
   "metadata": {
    "collapsed": true
   },
   "outputs": [],
   "source": [
    "from sklearn.model_selection import train_test_split\n",
    "\n",
    "X_train, X_test, y_train, y_test = train_test_split(X, y, test_size=0.3, random_state=7)"
   ]
  },
  {
   "cell_type": "markdown",
   "metadata": {},
   "source": [
    "When modeling multi-class classification problems using neural networks, it is a good practice to reshape the output variable from a vector that contains values for each class value to be a matrix with a boolean for each class value and whether or not a given instance has that class value or not.  \n",
    "\n",
    "This is called **one hot encoding**"
   ]
  },
  {
   "cell_type": "code",
   "execution_count": 9,
   "metadata": {},
   "outputs": [],
   "source": [
    "from sklearn.preprocessing import LabelEncoder\n",
    "labelEncoder = LabelEncoder()\n",
    "y_encoded = labelEncoder.fit_transform(y_train)\n",
    "\n",
    "from keras.utils import np_utils\n",
    "y_train = np_utils.to_categorical(y_encoded)"
   ]
  },
  {
   "cell_type": "code",
   "execution_count": 10,
   "metadata": {},
   "outputs": [
    {
     "data": {
      "text/plain": [
       "array([[ 1.,  0.,  0.],\n",
       "       [ 0.,  1.,  0.],\n",
       "       [ 0.,  1.,  0.],\n",
       "       [ 0.,  0.,  1.],\n",
       "       [ 1.,  0.,  0.],\n",
       "       [ 1.,  0.,  0.],\n",
       "       [ 1.,  0.,  0.],\n",
       "       [ 0.,  0.,  1.],\n",
       "       [ 1.,  0.,  0.],\n",
       "       [ 0.,  0.,  1.]])"
      ]
     },
     "execution_count": 10,
     "metadata": {},
     "output_type": "execute_result"
    }
   ],
   "source": [
    "y_train[0:10,:]"
   ]
  },
  {
   "cell_type": "code",
   "execution_count": 11,
   "metadata": {
    "collapsed": true
   },
   "outputs": [],
   "source": [
    "# Feature Scaling is necessary when building an Artificial Neural Network\n",
    "from sklearn.preprocessing import StandardScaler\n",
    "sd = StandardScaler(with_mean=True, with_std=True)\n",
    "sd.fit(X_train)\n",
    "\n",
    "X_train_std = sd.transform(X_train)\n",
    "X_test_std = sd.transform(X_test)"
   ]
  },
  {
   "cell_type": "code",
   "execution_count": 12,
   "metadata": {},
   "outputs": [],
   "source": [
    "# Building the Artificial Neural Network\n",
    "ann_classifier = Sequential() \n",
    "ann_classifier.add(Dense(units=6, input_dim=4, kernel_initializer='uniform', activation='relu')) # First hidden layer\n",
    "ann_classifier.add(Dense(units=4, kernel_initializer='uniform', activation='relu')) # Second hidden layer\n",
    "ann_classifier.add(Dense(units=3, kernel_initializer='uniform', activation='sigmoid')) # Output layer\n",
    "ann_classifier.compile(loss='categorical_crossentropy', optimizer='adam', metrics=['accuracy'])"
   ]
  },
  {
   "cell_type": "code",
   "execution_count": 13,
   "metadata": {},
   "outputs": [
    {
     "name": "stdout",
     "output_type": "stream",
     "text": [
      "Epoch 1/100\n",
      "105/105 [==============================] - 0s - loss: 1.0986 - acc: 0.2857     \n",
      "Epoch 2/100\n",
      "105/105 [==============================] - 0s - loss: 1.0985 - acc: 0.3619     \n",
      "Epoch 3/100\n",
      "105/105 [==============================] - 0s - loss: 1.0982 - acc: 0.3619     \n",
      "Epoch 4/100\n",
      "105/105 [==============================] - 0s - loss: 1.0975 - acc: 0.3619     \n",
      "Epoch 5/100\n",
      "105/105 [==============================] - 0s - loss: 1.0960 - acc: 0.3619     \n",
      "Epoch 6/100\n",
      "105/105 [==============================] - 0s - loss: 1.0936 - acc: 0.3619     \n",
      "Epoch 7/100\n",
      "105/105 [==============================] - 0s - loss: 1.0890 - acc: 0.3619     \n",
      "Epoch 8/100\n",
      "105/105 [==============================] - 0s - loss: 1.0826 - acc: 0.4095     \n",
      "Epoch 9/100\n",
      "105/105 [==============================] - ETA: 0s - loss: 1.0811 - acc: 0.300 - 0s - loss: 1.0734 - acc: 0.4952     \n",
      "Epoch 10/100\n",
      "105/105 [==============================] - 0s - loss: 1.0616 - acc: 0.6095     \n",
      "Epoch 11/100\n",
      "105/105 [==============================] - 0s - loss: 1.0469 - acc: 0.6286     \n",
      "Epoch 12/100\n",
      "105/105 [==============================] - 0s - loss: 1.0277 - acc: 0.6286     \n",
      "Epoch 13/100\n",
      "105/105 [==============================] - 0s - loss: 1.0058 - acc: 0.6381     \n",
      "Epoch 14/100\n",
      "105/105 [==============================] - 0s - loss: 0.9795 - acc: 0.6381     \n",
      "Epoch 15/100\n",
      "105/105 [==============================] - 0s - loss: 0.9502 - acc: 0.6381     \n",
      "Epoch 16/100\n",
      "105/105 [==============================] - 0s - loss: 0.9199 - acc: 0.6381     \n",
      "Epoch 17/100\n",
      "105/105 [==============================] - 0s - loss: 0.8839 - acc: 0.6381     \n",
      "Epoch 18/100\n",
      "105/105 [==============================] - 0s - loss: 0.8518 - acc: 0.6381     \n",
      "Epoch 19/100\n",
      "105/105 [==============================] - 0s - loss: 0.8159 - acc: 0.6571     \n",
      "Epoch 20/100\n",
      "105/105 [==============================] - 0s - loss: 0.7824 - acc: 0.7333     \n",
      "Epoch 21/100\n",
      "105/105 [==============================] - 0s - loss: 0.7504 - acc: 0.7143     \n",
      "Epoch 22/100\n",
      "105/105 [==============================] - 0s - loss: 0.7214 - acc: 0.6952     \n",
      "Epoch 23/100\n",
      "105/105 [==============================] - 0s - loss: 0.6936 - acc: 0.6952     \n",
      "Epoch 24/100\n",
      "105/105 [==============================] - 0s - loss: 0.6694 - acc: 0.6952     \n",
      "Epoch 25/100\n",
      "105/105 [==============================] - 0s - loss: 0.6476 - acc: 0.6762     \n",
      "Epoch 26/100\n",
      "105/105 [==============================] - 0s - loss: 0.6276 - acc: 0.6762     \n",
      "Epoch 27/100\n",
      "105/105 [==============================] - 0s - loss: 0.6097 - acc: 0.6762     \n",
      "Epoch 28/100\n",
      "105/105 [==============================] - 0s - loss: 0.5937 - acc: 0.6762     \n",
      "Epoch 29/100\n",
      "105/105 [==============================] - 0s - loss: 0.5791 - acc: 0.6762     \n",
      "Epoch 30/100\n",
      "105/105 [==============================] - 0s - loss: 0.5662 - acc: 0.6762     \n",
      "Epoch 31/100\n",
      "105/105 [==============================] - 0s - loss: 0.5547 - acc: 0.6762     \n",
      "Epoch 32/100\n",
      "105/105 [==============================] - 0s - loss: 0.5442 - acc: 0.6762     \n",
      "Epoch 33/100\n",
      "105/105 [==============================] - 0s - loss: 0.5348 - acc: 0.6762     \n",
      "Epoch 34/100\n",
      "105/105 [==============================] - 0s - loss: 0.5267 - acc: 0.6762     \n",
      "Epoch 35/100\n",
      "105/105 [==============================] - 0s - loss: 0.5191 - acc: 0.6762     \n",
      "Epoch 36/100\n",
      "105/105 [==============================] - 0s - loss: 0.5124 - acc: 0.6762     \n",
      "Epoch 37/100\n",
      "105/105 [==============================] - 0s - loss: 0.5065 - acc: 0.6762     \n",
      "Epoch 38/100\n",
      "105/105 [==============================] - 0s - loss: 0.5014 - acc: 0.6762     \n",
      "Epoch 39/100\n",
      "105/105 [==============================] - 0s - loss: 0.4967 - acc: 0.6762     \n",
      "Epoch 40/100\n",
      "105/105 [==============================] - 0s - loss: 0.4924 - acc: 0.6762     \n",
      "Epoch 41/100\n",
      "105/105 [==============================] - 0s - loss: 0.4887 - acc: 0.6762     \n",
      "Epoch 42/100\n",
      "105/105 [==============================] - 0s - loss: 0.4853 - acc: 0.6762     \n",
      "Epoch 43/100\n",
      "105/105 [==============================] - 0s - loss: 0.4822 - acc: 0.6762     \n",
      "Epoch 44/100\n",
      "105/105 [==============================] - 0s - loss: 0.4794 - acc: 0.6762     \n",
      "Epoch 45/100\n",
      "105/105 [==============================] - 0s - loss: 0.4769 - acc: 0.6762     \n",
      "Epoch 46/100\n",
      "105/105 [==============================] - 0s - loss: 0.4746 - acc: 0.6762     \n",
      "Epoch 47/100\n",
      "105/105 [==============================] - 0s - loss: 0.4724 - acc: 0.6762     \n",
      "Epoch 48/100\n",
      "105/105 [==============================] - 0s - loss: 0.4706 - acc: 0.6762     \n",
      "Epoch 49/100\n",
      "105/105 [==============================] - 0s - loss: 0.4687 - acc: 0.6762     \n",
      "Epoch 50/100\n",
      "105/105 [==============================] - 0s - loss: 0.4671 - acc: 0.6762     \n",
      "Epoch 51/100\n",
      "105/105 [==============================] - 0s - loss: 0.4655 - acc: 0.6762     \n",
      "Epoch 52/100\n",
      "105/105 [==============================] - 0s - loss: 0.4640 - acc: 0.6762     \n",
      "Epoch 53/100\n",
      "105/105 [==============================] - 0s - loss: 0.4628 - acc: 0.6762     \n",
      "Epoch 54/100\n",
      "105/105 [==============================] - 0s - loss: 0.4616 - acc: 0.6762     \n",
      "Epoch 55/100\n",
      "105/105 [==============================] - 0s - loss: 0.4604 - acc: 0.6762     \n",
      "Epoch 56/100\n",
      "105/105 [==============================] - 0s - loss: 0.4593 - acc: 0.6762     \n",
      "Epoch 57/100\n",
      "105/105 [==============================] - 0s - loss: 0.4583 - acc: 0.6762     \n",
      "Epoch 58/100\n",
      "105/105 [==============================] - 0s - loss: 0.4572 - acc: 0.6857     \n",
      "Epoch 59/100\n",
      "105/105 [==============================] - 0s - loss: 0.4562 - acc: 0.6857     \n",
      "Epoch 60/100\n",
      "105/105 [==============================] - 0s - loss: 0.4555 - acc: 0.6952     \n",
      "Epoch 61/100\n",
      "105/105 [==============================] - 0s - loss: 0.4544 - acc: 0.7143     \n",
      "Epoch 62/100\n",
      "105/105 [==============================] - 0s - loss: 0.4537 - acc: 0.7143     \n",
      "Epoch 63/100\n",
      "105/105 [==============================] - 0s - loss: 0.4529 - acc: 0.7143     \n",
      "Epoch 64/100\n",
      "105/105 [==============================] - 0s - loss: 0.4523 - acc: 0.7143     \n",
      "Epoch 65/100\n",
      "105/105 [==============================] - 0s - loss: 0.4515 - acc: 0.7524     \n",
      "Epoch 66/100\n",
      "105/105 [==============================] - 0s - loss: 0.4509 - acc: 0.7714     \n",
      "Epoch 67/100\n",
      "105/105 [==============================] - 0s - loss: 0.4504 - acc: 0.8286     \n",
      "Epoch 68/100\n",
      "105/105 [==============================] - 0s - loss: 0.4496 - acc: 0.8667     \n",
      "Epoch 69/100\n",
      "105/105 [==============================] - 0s - loss: 0.4492 - acc: 0.8571     \n",
      "Epoch 70/100\n",
      "105/105 [==============================] - 0s - loss: 0.4486 - acc: 0.9143     \n",
      "Epoch 71/100\n",
      "105/105 [==============================] - 0s - loss: 0.4481 - acc: 0.9429     \n",
      "Epoch 72/100\n",
      "105/105 [==============================] - 0s - loss: 0.4475 - acc: 0.9333     \n",
      "Epoch 73/100\n",
      "105/105 [==============================] - 0s - loss: 0.4470 - acc: 0.9238     \n",
      "Epoch 74/100\n",
      "105/105 [==============================] - 0s - loss: 0.4465 - acc: 0.9143     \n",
      "Epoch 75/100\n",
      "105/105 [==============================] - 0s - loss: 0.4461 - acc: 0.8857     \n",
      "Epoch 76/100\n",
      "105/105 [==============================] - 0s - loss: 0.4456 - acc: 0.7905     \n",
      "Epoch 77/100\n",
      "105/105 [==============================] - 0s - loss: 0.4452 - acc: 0.7905     \n",
      "Epoch 78/100\n",
      "105/105 [==============================] - 0s - loss: 0.4448 - acc: 0.7524     \n",
      "Epoch 79/100\n",
      "105/105 [==============================] - 0s - loss: 0.4444 - acc: 0.7429     \n",
      "Epoch 80/100\n",
      "105/105 [==============================] - 0s - loss: 0.4441 - acc: 0.7333     \n",
      "Epoch 81/100\n",
      "105/105 [==============================] - 0s - loss: 0.4436 - acc: 0.7238     \n",
      "Epoch 82/100\n",
      "105/105 [==============================] - 0s - loss: 0.4433 - acc: 0.7048     \n",
      "Epoch 83/100\n",
      "105/105 [==============================] - 0s - loss: 0.4429 - acc: 0.6952     \n",
      "Epoch 84/100\n",
      "105/105 [==============================] - 0s - loss: 0.4425 - acc: 0.6952     \n",
      "Epoch 85/100\n",
      "105/105 [==============================] - 0s - loss: 0.4422 - acc: 0.6952     \n",
      "Epoch 86/100\n",
      "105/105 [==============================] - 0s - loss: 0.4419 - acc: 0.6952     \n",
      "Epoch 87/100\n",
      "105/105 [==============================] - 0s - loss: 0.4416 - acc: 0.6952     \n",
      "Epoch 88/100\n"
     ]
    },
    {
     "name": "stdout",
     "output_type": "stream",
     "text": [
      "105/105 [==============================] - 0s - loss: 0.4413 - acc: 0.6857     \n",
      "Epoch 89/100\n",
      "105/105 [==============================] - 0s - loss: 0.4410 - acc: 0.6857     \n",
      "Epoch 90/100\n",
      "105/105 [==============================] - 0s - loss: 0.4407 - acc: 0.6857     \n",
      "Epoch 91/100\n",
      "105/105 [==============================] - 0s - loss: 0.4403 - acc: 0.6857     \n",
      "Epoch 92/100\n",
      "105/105 [==============================] - 0s - loss: 0.4400 - acc: 0.6857     \n",
      "Epoch 93/100\n",
      "105/105 [==============================] - 0s - loss: 0.4397 - acc: 0.6857     \n",
      "Epoch 94/100\n",
      "105/105 [==============================] - 0s - loss: 0.4394 - acc: 0.6857     \n",
      "Epoch 95/100\n",
      "105/105 [==============================] - 0s - loss: 0.4392 - acc: 0.6857     \n",
      "Epoch 96/100\n",
      "105/105 [==============================] - 0s - loss: 0.4389 - acc: 0.6857     \n",
      "Epoch 97/100\n",
      "105/105 [==============================] - 0s - loss: 0.4385 - acc: 0.6857     \n",
      "Epoch 98/100\n",
      "105/105 [==============================] - 0s - loss: 0.4382 - acc: 0.6857     \n",
      "Epoch 99/100\n",
      "105/105 [==============================] - 0s - loss: 0.4379 - acc: 0.6857     \n",
      "Epoch 100/100\n",
      "105/105 [==============================] - 0s - loss: 0.4376 - acc: 0.6857     \n"
     ]
    },
    {
     "data": {
      "text/plain": [
       "<keras.callbacks.History at 0x1124ae978>"
      ]
     },
     "execution_count": 13,
     "metadata": {},
     "output_type": "execute_result"
    }
   ],
   "source": [
    "# Training the model\n",
    "ann_classifier.fit(x=X_train_std, y=y_train, batch_size=10, epochs=100)"
   ]
  },
  {
   "cell_type": "code",
   "execution_count": 14,
   "metadata": {},
   "outputs": [
    {
     "name": "stdout",
     "output_type": "stream",
     "text": [
      "_________________________________________________________________\n",
      "Layer (type)                 Output Shape              Param #   \n",
      "=================================================================\n",
      "dense_1 (Dense)              (None, 6)                 30        \n",
      "_________________________________________________________________\n",
      "dense_2 (Dense)              (None, 4)                 28        \n",
      "_________________________________________________________________\n",
      "dense_3 (Dense)              (None, 3)                 15        \n",
      "=================================================================\n",
      "Total params: 73\n",
      "Trainable params: 73\n",
      "Non-trainable params: 0\n",
      "_________________________________________________________________\n"
     ]
    }
   ],
   "source": [
    "ann_classifier.summary()"
   ]
  },
  {
   "cell_type": "code",
   "execution_count": 15,
   "metadata": {},
   "outputs": [
    {
     "name": "stdout",
     "output_type": "stream",
     "text": [
      "32/45 [====================>.........] - ETA: 0s\n",
      "Accuracy: 0.6222222222222222\n",
      "Number of milabeled points: 17\n"
     ]
    }
   ],
   "source": [
    "# Testing the model\n",
    "y_pred = ann_classifier.predict_classes(X_test_std)\n",
    "\n",
    "from sklearn.metrics import accuracy_score\n",
    "accuracy = accuracy_score(y_test, y_pred)\n",
    "print('\\nAccuracy: {0}'.format(accuracy))\n",
    "print('Number of milabeled points: {0}'.format((y_test!=y_pred).sum()))"
   ]
  },
  {
   "cell_type": "markdown",
   "metadata": {},
   "source": [
    "## Evaluating the ANN model with k-Fold Cross Validation"
   ]
  },
  {
   "cell_type": "code",
   "execution_count": null,
   "metadata": {},
   "outputs": [
    {
     "name": "stdout",
     "output_type": "stream",
     "text": [
      "Accuracy: 75.45 (22.62)\n"
     ]
    }
   ],
   "source": [
    "from sklearn.model_selection import KFold\n",
    "from sklearn.model_selection import cross_val_score\n",
    "from keras.wrappers.scikit_learn import KerasClassifier\n",
    "\n",
    "def build_classifier():\n",
    "    # create model\n",
    "    model = Sequential()\n",
    "    model.add(Dense(units=6, input_dim=4, kernel_initializer='uniform', activation='relu')) # First hidden layer\n",
    "    model.add(Dense(units=4, kernel_initializer='uniform', activation='relu')) # Second hidden layer\n",
    "    model.add(Dense(units=3, kernel_initializer='uniform', activation='sigmoid')) # Output layer\n",
    "    model.compile(loss='categorical_crossentropy', optimizer='adam', metrics=['accuracy'])\n",
    "    return model\n",
    "\n",
    "classifier = KerasClassifier(build_fn=build_classifier, batch_size=5, epochs=200, verbose=0)\n",
    "\n",
    "kfold = KFold(n_splits=10, shuffle=True, random_state=7)\n",
    "results = cross_val_score(estimator=classifier, X=X_train_std, y=y_train, cv=kfold)\n",
    "print(\"Accuracy: {0:.2f} ({1:.2f})\".format(results.mean()*100, results.std()*100))"
   ]
  },
  {
   "cell_type": "markdown",
   "metadata": {},
   "source": [
    "## Tuning the ANN model with GridSearchCV"
   ]
  },
  {
   "cell_type": "code",
   "execution_count": null,
   "metadata": {},
   "outputs": [
    {
     "name": "stdout",
     "output_type": "stream",
     "text": [
      "Training the model using grid seach for tuning the hyperparemetes and 10 fold cross validation\n"
     ]
    }
   ],
   "source": [
    "from sklearn.model_selection import GridSearchCV\n",
    "import time\n",
    "\n",
    "def build_ann_classifier(optimizer, debug=False):\n",
    "    # create model\n",
    "    model = Sequential()\n",
    "    model.add(Dense(units=6, input_dim=4, kernel_initializer='uniform', activation='relu')) # First hidden layer\n",
    "    model.add(Dense(units=4, kernel_initializer='uniform', activation='relu')) # Second hidden layer\n",
    "    model.add(Dense(units=3, kernel_initializer='uniform', activation='sigmoid')) # Output layer\n",
    "    model.compile(loss='categorical_crossentropy', optimizer=optimizer, metrics=['accuracy'])\n",
    "    return model\n",
    "\n",
    "classifier = KerasClassifier(build_fn=build_ann_classifier, verbose=0)\n",
    "parameters = {'batch_size':[5, 10, 20],\n",
    "              'epochs':[100, 200, 500],\n",
    "              'optimizer':['adam', 'rmsprop']}\n",
    "\n",
    "grid_search = GridSearchCV(estimator= classifier,\n",
    "                           param_grid=parameters,\n",
    "                           cv=10)\n",
    "\n",
    "t0 = time.time()\n",
    "print('Training the model using grid seach for tuning the hyperparemetes and 10 fold cross validation')\n",
    "grid_search.fit(X_train, y_train)\n",
    "print('Training time: {0}'.format(time.time()-t0))\n",
    "\n",
    "best_parameters = grid_search.best_params_ \n",
    "best_accuracy = grid_search.best_score_\n",
    "\n",
    "print('\\nBest parameters: {0}'.format(best_parameters))\n",
    "print('Best accuracy: {0}'.format(best_accuracy))"
   ]
  },
  {
   "cell_type": "code",
   "execution_count": null,
   "metadata": {},
   "outputs": [],
   "source": [
    "# Building the best model according to the results of the GridSearchCV\n",
    "best_model = Sequential()\n",
    "best_model.add(Dense(units=6, input_dim=4, kernel_initializer='uniform', activation='relu')) # First hidden layer\n",
    "best_model.add(Dense(units=4, kernel_initializer='uniform', activation='relu')) # Second hidden layer\n",
    "best_model.add(Dense(units=3, kernel_initializer='uniform', activation='sigmoid')) # Output layer\n",
    "best_model.compile(loss='categorical_crossentropy', optimizer=best_parameters['optimizer'], metrics=['accuracy'])\n",
    "\n",
    "best_model.fit(x=X_train_std, y=y_train, batch_size=best_parameters['batch_size'], epochs=best_parameters['epochs'])"
   ]
  },
  {
   "cell_type": "code",
   "execution_count": null,
   "metadata": {},
   "outputs": [],
   "source": [
    "# Testing the model\n",
    "y_pred = best_model.predict_classes(X_test_std)\n",
    "\n",
    "from sklearn.metrics import accuracy_score\n",
    "accuracy = accuracy_score(y_test, y_pred)\n",
    "print('\\nAccuracy: {0}'.format(accuracy))\n",
    "print('Number of milabeled points: {0}'.format((y_test!=y_pred).sum()))"
   ]
  }
 ],
 "metadata": {
  "kernelspec": {
   "display_name": "Python [conda env:dspy3]",
   "language": "python",
   "name": "conda-env-dspy3-py"
  },
  "language_info": {
   "codemirror_mode": {
    "name": "ipython",
    "version": 3
   },
   "file_extension": ".py",
   "mimetype": "text/x-python",
   "name": "python",
   "nbconvert_exporter": "python",
   "pygments_lexer": "ipython3",
   "version": "3.5.2"
  }
 },
 "nbformat": 4,
 "nbformat_minor": 2
}
